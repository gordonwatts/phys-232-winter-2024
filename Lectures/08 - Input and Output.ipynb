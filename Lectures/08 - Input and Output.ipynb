{
 "cells": [
  {
   "attachments": {},
   "cell_type": "markdown",
   "metadata": {},
   "source": [
    "# Lecture 8\n",
    "\n",
    "In this lecture we'll concentrate on I/O.\n",
    "\n",
    "# I/O (Input/Output)\n",
    "\n",
    "We'll pay most of our attention to input, but we will start with output.\n",
    "\n",
    "Using the hints from lecture, write some code that creates a file called `lecture8-out.txt` and writes out the `line_list`, one entry per line in the text file, using the `write` method on the file handle.\n"
   ]
  },
  {
   "attachments": {},
   "cell_type": "markdown",
   "metadata": {},
   "source": [
    "What can a file handle do? We can use the help function, as always..."
   ]
  },
  {
   "cell_type": "code",
   "execution_count": null,
   "metadata": {},
   "outputs": [],
   "source": [
    "with open('lecture8-out.txt', 'w') as file:\n",
    "    help(file)"
   ]
  },
  {
   "cell_type": "code",
   "execution_count": null,
   "metadata": {},
   "outputs": [],
   "source": [
    "line_list = ['first line', 'second line', 'high line', 'low line']"
   ]
  },
  {
   "cell_type": "markdown",
   "metadata": {},
   "source": [
    "Lets create the lecture8-out.txt file that will contain, one line each, everything in line-list."
   ]
  },
  {
   "cell_type": "code",
   "execution_count": null,
   "metadata": {
    "tags": [
     "class"
    ]
   },
   "outputs": [],
   "source": []
  },
  {
   "attachments": {},
   "cell_type": "markdown",
   "metadata": {},
   "source": [
    "1. Lets create a text file to read in - create one in this directory called `lecture8.txt`, and fill it with a few lines of text.\n",
    "2. Use the `open(\"lecture8.txt\", \"r\")` to open the file. Make sure to use the `with` statement!\n",
    "3. Use `readline` on the file handle to get back the first line.\n",
    "\n",
    "Check that it works by looking at the file - it should read:\n",
    "\n",
    "```\n",
    "first line\n",
    "second line\n",
    "high line\n",
    "low line\n",
    "\n",
    "```"
   ]
  },
  {
   "attachments": {},
   "cell_type": "markdown",
   "metadata": {},
   "source": [
    "Lets try the `readline` - open the same file for reading, and loop, printing out the lines, until you hit end of the file!"
   ]
  },
  {
   "cell_type": "code",
   "execution_count": null,
   "metadata": {
    "tags": [
     "class"
    ]
   },
   "outputs": [],
   "source": []
  },
  {
   "attachments": {},
   "cell_type": "markdown",
   "metadata": {},
   "source": [
    "Bonus question: why do you get an extra blank line between your output lines - and how can you fix it?"
   ]
  },
  {
   "cell_type": "code",
   "execution_count": null,
   "metadata": {
    "tags": [
     "class"
    ]
   },
   "outputs": [],
   "source": []
  },
  {
   "attachments": {},
   "cell_type": "markdown",
   "metadata": {},
   "source": [
    "What about `read`? Do the same thing in the next cell, but use `read` instead of `readline` - and make sure to read only one character at a time."
   ]
  },
  {
   "cell_type": "code",
   "execution_count": null,
   "metadata": {
    "tags": [
     "class"
    ]
   },
   "outputs": [],
   "source": []
  }
 ],
 "metadata": {
  "kernelspec": {
   "display_name": ".venv",
   "language": "python",
   "name": "python3"
  },
  "language_info": {
   "codemirror_mode": {
    "name": "ipython",
    "version": 3
   },
   "file_extension": ".py",
   "mimetype": "text/x-python",
   "name": "python",
   "nbconvert_exporter": "python",
   "pygments_lexer": "ipython3",
   "version": "3.10.8"
  },
  "orig_nbformat": 4,
  "vscode": {
   "interpreter": {
    "hash": "97ee99713355a295790cf988e930f7ce05360b418008be67aa4c33ddf991f00c"
   }
  }
 },
 "nbformat": 4,
 "nbformat_minor": 2
}
