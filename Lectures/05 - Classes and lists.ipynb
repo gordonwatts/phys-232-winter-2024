{
 "cells": [
  {
   "attachments": {},
   "cell_type": "markdown",
   "metadata": {},
   "source": [
    "# Lecture 5\n",
    "\n",
    "Today we finally get to flow control: if statements and loops!"
   ]
  },
  {
   "attachments": {},
   "cell_type": "markdown",
   "metadata": {},
   "source": [
    "# Flow Control - If Statements\n",
    "\n",
    "These are simple branch statements and probably some of the most powerful single statements in a programming language. Many languages contain multiple types of `if` statements, even!"
   ]
  },
  {
   "cell_type": "code",
   "execution_count": null,
   "metadata": {},
   "outputs": [],
   "source": [
    "i = 10\n",
    "if i == 10:\n",
    "    print(\"it is 10\")\n",
    "else:\n",
    "    print(\"it is not 10\")"
   ]
  },
  {
   "attachments": {},
   "cell_type": "markdown",
   "metadata": {},
   "source": [
    "The above should print 10. Now cut paste the code into the cell below and modify `i` so that it prints out `it is not 10`."
   ]
  },
  {
   "cell_type": "code",
   "execution_count": null,
   "metadata": {
    "tags": [
     "class"
    ]
   },
   "outputs": [],
   "source": []
  },
  {
   "attachments": {},
   "cell_type": "markdown",
   "metadata": {},
   "source": [
    "Write additional code below so that it prints out \"The LED is on\" or \"The LED is off\" depending on the value of \"led_is_on\":"
   ]
  },
  {
   "cell_type": "code",
   "execution_count": null,
   "metadata": {
    "tags": [
     "class"
    ]
   },
   "outputs": [],
   "source": [
    "led_is_on = False\n",
    "\n"
   ]
  },
  {
   "attachments": {},
   "cell_type": "markdown",
   "metadata": {},
   "source": [
    "You can also drop the `else` clause if you like:"
   ]
  },
  {
   "cell_type": "code",
   "execution_count": null,
   "metadata": {},
   "outputs": [],
   "source": [
    "i = 10\n",
    "if i >= 10:\n",
    "    print(\"i is too large!\")"
   ]
  },
  {
   "attachments": {},
   "cell_type": "markdown",
   "metadata": {},
   "source": [
    "Python has a second form of a if statement - one that is an expression! We can rewrite the above:"
   ]
  },
  {
   "cell_type": "code",
   "execution_count": null,
   "metadata": {},
   "outputs": [],
   "source": [
    "size_string = \"it is 10\" if i == 10 else \"is is not 10\"\n",
    "print(size_string)"
   ]
  },
  {
   "cell_type": "markdown",
   "metadata": {},
   "source": [
    "The power of the `if` statement really comes from the test (e.g. the `i >= 10`). Any valid Python expression can go in that statement. Lets write a small bit of code to test if a given number is an exact square:"
   ]
  },
  {
   "cell_type": "code",
   "execution_count": 5,
   "metadata": {},
   "outputs": [],
   "source": [
    "number_to_test = 25"
   ]
  },
  {
   "cell_type": "markdown",
   "metadata": {},
   "source": [
    "Write some code that will print out `exact square` or  `not exact square`. You can use `import math` and then `math.sqrt` if you'd like."
   ]
  },
  {
   "cell_type": "code",
   "execution_count": 4,
   "metadata": {
    "tags": [
     "class"
    ]
   },
   "outputs": [
    {
     "name": "stdout",
     "output_type": "stream",
     "text": [
      "not exact square\n"
     ]
    }
   ],
   "source": []
  },
  {
   "attachments": {},
   "cell_type": "markdown",
   "metadata": {},
   "source": [
    "# Flow Control - Loops\n",
    "\n",
    "The most important types of statement-loops are the `for` and `while` loops. You've been seeing `while` loops for a while:\n",
    "\n",
    "```python\n",
    "while condition_expression:\n",
    "    statement1\n",
    "    statement2\n",
    "```\n",
    "\n",
    "In our microcontroller code you often see:\n",
    "\n",
    "```python\n",
    "while True:\n",
    "    statement1\n",
    "    statement2\n",
    "```\n",
    "\n",
    "This is because we want to start the microcontroller and have it run till we reset it or the battery dies!\n",
    "\n",
    "But any condition will work there."
   ]
  },
  {
   "attachments": {},
   "cell_type": "markdown",
   "metadata": {},
   "source": [
    "Write, in the cell below, a while loop that prints out the following:\n",
    "\n",
    "```text\n",
    "0\n",
    "2\n",
    "4\n",
    "6\n",
    "8\n",
    "10\n",
    "```\n",
    "\n",
    "The while loop should have only one `print` function call!"
   ]
  },
  {
   "cell_type": "code",
   "execution_count": null,
   "metadata": {
    "tags": [
     "class"
    ]
   },
   "outputs": [],
   "source": []
  },
  {
   "attachments": {},
   "cell_type": "markdown",
   "metadata": {},
   "source": [
    "In a microcontroller you may have a `while` loop that looks at some external condition, and as long as it exists, it will keep trying to do something to correct it."
   ]
  },
  {
   "attachments": {},
   "cell_type": "markdown",
   "metadata": {},
   "source": [
    "The `for` loop is normally even more common. The `for` loop loops over a `list` of items or a `tuple`. That is it. That is all it does!\n",
    "\n",
    "From your reading, create a `for` loop that prints out \"I found a <x>\" for each item in the list:"
   ]
  },
  {
   "cell_type": "code",
   "execution_count": null,
   "metadata": {},
   "outputs": [],
   "source": [
    "things = [\"bike\", \"car\", \"plane\", \"train\"]\n",
    "for thing in things:\n",
    "    print(f'I found a {thing}')"
   ]
  },
  {
   "attachments": {},
   "cell_type": "markdown",
   "metadata": {},
   "source": [
    "You will often find ourself looping over `list`s in python.\n",
    "\n",
    "Lots of things can generate a `list` or `tuple`. One of the more useful is `range`:"
   ]
  },
  {
   "cell_type": "code",
   "execution_count": null,
   "metadata": {},
   "outputs": [],
   "source": [
    "range?"
   ]
  },
  {
   "attachments": {},
   "cell_type": "markdown",
   "metadata": {},
   "source": [
    "In the next cell, write a `for` loop that prints out the same as the while loop (even numbers up to 10), and does not contain a `*2` expression in it!"
   ]
  },
  {
   "cell_type": "code",
   "execution_count": null,
   "metadata": {
    "tags": [
     "class"
    ]
   },
   "outputs": [],
   "source": []
  },
  {
   "attachments": {},
   "cell_type": "markdown",
   "metadata": {},
   "source": [
    "Recall we said _expression-based if's_ above? There are expression loops as well! These are called `generators` or `list comprehensions` and are very very powerful because you can do so much so concisely. I'll show you an example - you should read up on these and start using them as soon as you feel comfortable."
   ]
  },
  {
   "cell_type": "code",
   "execution_count": null,
   "metadata": {},
   "outputs": [],
   "source": [
    "every_number = [0, 1, 2, 3, 4, 5]\n",
    "even_numbers = [i*2 for i in every_number]\n",
    "print(even_numbers)"
   ]
  },
  {
   "attachments": {},
   "cell_type": "markdown",
   "metadata": {},
   "source": [
    "Have you heard of the `map-reduce` algorithm? It is a way of splitting up and processing a large amount of data and then aggregating it. It came from Google, and they are famous for it because it was one of the first patterns recognized for processing big data. This `list comprehension` is the `map` operation in `map-reduce`. This gets especially concise and powerful in python when we combine it with functions, which we will learn about next."
   ]
  },
  {
   "cell_type": "markdown",
   "metadata": {},
   "source": [
    "## Functions\n",
    "\n",
    "We've been using functions a lot in this course already - you can't get away from them! Event `print` is a function in python!\n",
    "\n",
    "To start, lets define a silly function and play with the arguments a little bit:"
   ]
  },
  {
   "cell_type": "code",
   "execution_count": null,
   "metadata": {},
   "outputs": [],
   "source": [
    "def udub(name, major):\n",
    "    print(f\"Hello, I am {name}! I am majoring in {major} at UW.\")"
   ]
  },
  {
   "cell_type": "code",
   "execution_count": null,
   "metadata": {},
   "outputs": [],
   "source": [
    "udub(\"Joe\", \"physics\")"
   ]
  },
  {
   "cell_type": "markdown",
   "metadata": {},
   "source": [
    "Lets say I wrote `wdub(\"Math\", \"Jane\")` - write the call in the next cell, leaving the *order* of the arguments the same, but so that things are called properly."
   ]
  },
  {
   "cell_type": "code",
   "execution_count": null,
   "metadata": {},
   "outputs": [],
   "source": []
  },
  {
   "cell_type": "markdown",
   "metadata": {},
   "source": [
    "Since everyone at UW majors in physics, lets default the major to physics. Fix up the following cell so the cell after it works correctly:"
   ]
  },
  {
   "cell_type": "code",
   "execution_count": null,
   "metadata": {},
   "outputs": [],
   "source": [
    "def udub(major='physics', name):\n",
    "    print(f\"Hello, I am {name}! I am majoring in {major} at UW.\")"
   ]
  },
  {
   "cell_type": "code",
   "execution_count": null,
   "metadata": {},
   "outputs": [],
   "source": [
    "udub('Joe')"
   ]
  },
  {
   "cell_type": "markdown",
   "metadata": {},
   "source": [
    "Arguments are passed in different ways - depending on how they are called.\n",
    "\n",
    "In this next cell create a function called `modify_it` that takes an integer and a list as arguments. The integer argument it adds 1. The list it appends the number 5. The function then prints out both arguments."
   ]
  },
  {
   "cell_type": "code",
   "execution_count": null,
   "metadata": {},
   "outputs": [],
   "source": []
  }
 ],
 "metadata": {
  "kernelspec": {
   "display_name": ".venv",
   "language": "python",
   "name": "python3"
  },
  "language_info": {
   "codemirror_mode": {
    "name": "ipython",
    "version": 3
   },
   "file_extension": ".py",
   "mimetype": "text/x-python",
   "name": "python",
   "nbconvert_exporter": "python",
   "pygments_lexer": "ipython3",
   "version": "3.10.8"
  },
  "orig_nbformat": 4,
  "vscode": {
   "interpreter": {
    "hash": "91cc1d34ef0582b00b6e94d9f7ac2b9b53d9b31b0e7278db8b56ff132166e659"
   }
  }
 },
 "nbformat": 4,
 "nbformat_minor": 2
}
