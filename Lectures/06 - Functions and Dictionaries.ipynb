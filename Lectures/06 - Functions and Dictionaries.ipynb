{
 "cells": [
  {
   "attachments": {},
   "cell_type": "markdown",
   "metadata": {},
   "source": [
    "# Lecture 6\n",
    "\n",
    "Functions and Dictionaries are next! Functions are one of the most heavily used ways of writing code and dictionaries are one of the most heavily used data types."
   ]
  },
  {
   "attachments": {},
   "cell_type": "markdown",
   "metadata": {},
   "source": [
    "## Functions\n",
    "\n",
    "We've been using functions a lot in this course already - you can't get away from them! Event `print` is a function in python!\n",
    "\n",
    "To start, lets define a silly function and play with the arguments a little bit:"
   ]
  },
  {
   "cell_type": "code",
   "execution_count": null,
   "metadata": {},
   "outputs": [],
   "source": [
    "def udub(name, major):\n",
    "    print(f\"Hello, I am {name}! I am majoring in {major} at UW.\")"
   ]
  },
  {
   "cell_type": "code",
   "execution_count": null,
   "metadata": {},
   "outputs": [],
   "source": [
    "udub(\"Joe\", \"physics\")"
   ]
  },
  {
   "attachments": {},
   "cell_type": "markdown",
   "metadata": {},
   "source": [
    "Lets say I wrote `wdub(\"Math\", \"Jane\")` - write the call in the next cell, leaving the *order* of the arguments the same, but so that things are called properly."
   ]
  },
  {
   "cell_type": "code",
   "execution_count": null,
   "metadata": {
    "tags": [
     "class"
    ]
   },
   "outputs": [],
   "source": []
  },
  {
   "attachments": {},
   "cell_type": "markdown",
   "metadata": {},
   "source": [
    "Since everyone at UW majors in physics, lets default the major to physics. Fix up the following cell so the cell just below it works correctly:"
   ]
  },
  {
   "cell_type": "code",
   "execution_count": null,
   "metadata": {
    "tags": [
     "class"
    ]
   },
   "outputs": [],
   "source": [
    "def udub(major='physics', name):\n",
    "    print(f\"Hello, I am {name}! I am majoring in {major} at UW.\")"
   ]
  },
  {
   "cell_type": "code",
   "execution_count": null,
   "metadata": {},
   "outputs": [],
   "source": [
    "udub('Joe')"
   ]
  },
  {
   "attachments": {},
   "cell_type": "markdown",
   "metadata": {},
   "source": [
    "Arguments are passed in different ways - depending on how they are called _[See slides on by-reference and by-value]_.\n",
    "\n",
    "In this next cell create a function called `modify_it` that takes an integer and a list as arguments. To the integer argument it adds 1. The list it appends the number 5. The function then prints out both arguments."
   ]
  },
  {
   "cell_type": "code",
   "execution_count": null,
   "metadata": {
    "tags": [
     "class"
    ]
   },
   "outputs": [],
   "source": []
  },
  {
   "attachments": {},
   "cell_type": "markdown",
   "metadata": {},
   "source": [
    "Try to predict what the following code will do:"
   ]
  },
  {
   "cell_type": "code",
   "execution_count": null,
   "metadata": {},
   "outputs": [],
   "source": [
    "i = 2\n",
    "l = [1, 2, 3]\n",
    "\n",
    "print('Before call:', i, l)\n",
    "\n",
    "modify_it(i, l)\n",
    "\n",
    "print('After call:', i, l)"
   ]
  },
  {
   "attachments": {},
   "cell_type": "markdown",
   "metadata": {},
   "source": [
    "That is totally inconsistent! What is happening!!?!?\n",
    "\n",
    "Write the same sort of experiment with a string - is it by value or by reference?"
   ]
  },
  {
   "cell_type": "code",
   "execution_count": null,
   "metadata": {
    "tags": [
     "class"
    ]
   },
   "outputs": [],
   "source": []
  },
  {
   "attachments": {},
   "cell_type": "markdown",
   "metadata": {},
   "source": [
    "Functions can be defined almost anywhere. Sometimes you might want a function that is only useful inside another. You can define a function inside another:"
   ]
  },
  {
   "cell_type": "code",
   "execution_count": null,
   "metadata": {},
   "outputs": [],
   "source": [
    "def add_mul(n):\n",
    "    def add_it(n):\n",
    "        return n + 1\n",
    "    \n",
    "    return add_it(n) * 2\n",
    "\n",
    "add_mul(4)"
   ]
  },
  {
   "attachments": {},
   "cell_type": "markdown",
   "metadata": {},
   "source": [
    "Just as there are single line `if` and `loop` expressions, there are also function expressions. They are called `lambda` expressions:"
   ]
  },
  {
   "cell_type": "code",
   "execution_count": null,
   "metadata": {},
   "outputs": [],
   "source": [
    "def multiply(x, y):\n",
    "    return x * y\n",
    "\n",
    "my_mul_expr = lambda x, y: x * y\n",
    "\n",
    "print(multiply(2, 3))\n",
    "print(my_mul_expr(2, 3))"
   ]
  },
  {
   "attachments": {},
   "cell_type": "markdown",
   "metadata": {},
   "source": [
    "Where might this be useful? Functional programming and higher-order functions (functions that take functions as arguments).\n",
    "\n",
    "A classic is the built-in `map` function:"
   ]
  },
  {
   "cell_type": "code",
   "execution_count": null,
   "metadata": {},
   "outputs": [],
   "source": [
    "numbers = [1, 2, 3, 4, 5]\n",
    "map(lambda x: x * 2, numbers)"
   ]
  },
  {
   "attachments": {},
   "cell_type": "markdown",
   "metadata": {},
   "source": [
    "What? Wait a minute... Ok - rewrite the above, but put the `map(...)` as something you iterate over in a `for` loop. Just print out the value you are iterating with."
   ]
  },
  {
   "cell_type": "code",
   "execution_count": null,
   "metadata": {
    "tags": [
     "class"
    ]
   },
   "outputs": [],
   "source": []
  },
  {
   "attachments": {},
   "cell_type": "markdown",
   "metadata": {},
   "source": [
    "WHAT IS GOING ON!?!?!?\n",
    "\n",
    "`map` is a *generator*. It only _generates_ the elements of the list as it is asked for them. This is a memory saving device (think about running over a list that is GB in size). We can turn it into a list, however:"
   ]
  },
  {
   "cell_type": "code",
   "execution_count": null,
   "metadata": {},
   "outputs": [],
   "source": [
    "list(map(lambda x: x * 2, numbers))"
   ]
  },
  {
   "cell_type": "code",
   "execution_count": null,
   "metadata": {},
   "outputs": [],
   "source": [
    "my_double = lambda x: x * 2\n",
    "list(map(my_double, numbers))"
   ]
  },
  {
   "cell_type": "code",
   "execution_count": null,
   "metadata": {},
   "outputs": [],
   "source": [
    "?map"
   ]
  },
  {
   "attachments": {},
   "cell_type": "markdown",
   "metadata": {},
   "source": [
    "_shortest_ iterable - perhaps it will work on multiple lists?"
   ]
  },
  {
   "cell_type": "code",
   "execution_count": null,
   "metadata": {},
   "outputs": [],
   "source": [
    "list(map(my_mul_expr, numbers, numbers))"
   ]
  },
  {
   "attachments": {},
   "cell_type": "markdown",
   "metadata": {},
   "source": [
    "We can get totally crazy - by creating a higher order function that captures an argument."
   ]
  },
  {
   "cell_type": "code",
   "execution_count": null,
   "metadata": {},
   "outputs": [],
   "source": [
    "def capture_arg(func, arg):\n",
    "    def do_the_work(*args):\n",
    "        return func(arg, *args)\n",
    "    \n",
    "    return do_the_work\n",
    "\n",
    "temp_func = capture_arg(my_mul_expr, 2)\n",
    "temp_func(3)"
   ]
  },
  {
   "attachments": {},
   "cell_type": "markdown",
   "metadata": {},
   "source": [
    "`capture_arg` is returning a function!!!!! Write something similar to the `list(map(...)...)` from the cell above (just above the `?map`). But now use `capture_arg` and `my_mul_expr` to multiply everything by 2."
   ]
  },
  {
   "cell_type": "code",
   "execution_count": null,
   "metadata": {
    "tags": [
     "class"
    ]
   },
   "outputs": [],
   "source": []
  },
  {
   "cell_type": "markdown",
   "metadata": {},
   "source": [
    "Your output should have been `[2, 4, 6, 8, 10]`."
   ]
  },
  {
   "attachments": {},
   "cell_type": "markdown",
   "metadata": {},
   "source": [
    "I doubt you'll need to use this in this class. But it does give you a glimpse of how crazy python will let you get, if you want to push things. Which you find yourself doing with some regularity in actual large code bases. These features make it possible to compose different libraries and functionality."
   ]
  },
  {
   "cell_type": "markdown",
   "metadata": {},
   "source": [
    "# Dictionaries\n",
    "\n",
    "These are very versatile objects - you'll find yourself using them everywhere. They are very good at:\n",
    "\n",
    "* Storing state (similar to a class)\n",
    "* Configuration information\n",
    "* key-value storage and lookup pattern\n",
    "\n",
    "Your chapter in the book does a very good job of explaining and laying out what a dictionary can do. I have little to add. You'll also be using these in labs next week."
   ]
  },
  {
   "cell_type": "markdown",
   "metadata": {},
   "source": [
    "To have some fun, lets define a dictionary with lots of info in it."
   ]
  },
  {
   "cell_type": "code",
   "execution_count": null,
   "metadata": {},
   "outputs": [],
   "source": [
    "particles = {\n",
    "    'electron': {\n",
    "        'mass': 9.10938356e-31,\n",
    "        'interacts-with': ['photon', 'Z', 'W'],\n",
    "    },\n",
    "    'muon': {\n",
    "        'mass': 1.88353130e-28,\n",
    "        'interacts-with': ['photon', 'Z', 'W'],\n",
    "    },\n",
    "    'neutrino': {\n",
    "        'mass': 2.17647000e-35,\n",
    "        'interacts-with': ['Z', 'W'],\n",
    "    },\n",
    "    'photon': {\n",
    "        'mass': 0,\n",
    "        'interacts-with': ['electron', 'muon', 'Z', 'W'],\n",
    "    },\n",
    "    'Z': {\n",
    "        'mass': 91.1876,\n",
    "        'interacts-with': ['electron', 'muon', 'W'],\n",
    "    },\n",
    "    'W': {\n",
    "        'mass': 80.385,\n",
    "        'interacts-with': ['electron', 'muon', 'Z'],\n",
    "    },\n",
    "\n",
    "}"
   ]
  },
  {
   "cell_type": "markdown",
   "metadata": {},
   "source": [
    "We cam easily see the key's we use to look things up:"
   ]
  },
  {
   "cell_type": "code",
   "execution_count": null,
   "metadata": {},
   "outputs": [],
   "source": [
    "particles.keys()"
   ]
  },
  {
   "cell_type": "markdown",
   "metadata": {},
   "source": [
    "And access some particular data:"
   ]
  },
  {
   "cell_type": "code",
   "execution_count": null,
   "metadata": {},
   "outputs": [],
   "source": [
    "particles['electron']"
   ]
  },
  {
   "cell_type": "markdown",
   "metadata": {},
   "source": [
    "Write a loop that prints out the names of the particles and their masses:"
   ]
  },
  {
   "cell_type": "code",
   "execution_count": null,
   "metadata": {
    "tags": [
     "class"
    ]
   },
   "outputs": [],
   "source": []
  },
  {
   "cell_type": "markdown",
   "metadata": {},
   "source": [
    "They are in the same order as we saw them originally. Lets use the `sorted` function to fix that."
   ]
  },
  {
   "cell_type": "code",
   "execution_count": null,
   "metadata": {},
   "outputs": [],
   "source": [
    "sorted([2, 3, 1, 5, 8])"
   ]
  },
  {
   "cell_type": "code",
   "execution_count": null,
   "metadata": {},
   "outputs": [],
   "source": [
    "?sorted"
   ]
  },
  {
   "cell_type": "markdown",
   "metadata": {},
   "source": [
    "Use the `sorted` function to print out the items in particles in alphabetical order. Note that the default `sorted` sorts upper case and lower case separately (ASCII ordering). "
   ]
  },
  {
   "cell_type": "code",
   "execution_count": null,
   "metadata": {
    "tags": [
     "class"
    ]
   },
   "outputs": [],
   "source": []
  },
  {
   "cell_type": "markdown",
   "metadata": {},
   "source": [
    "What about ordering them from the heaviest to the lightest?"
   ]
  },
  {
   "cell_type": "code",
   "execution_count": null,
   "metadata": {},
   "outputs": [],
   "source": []
  },
  {
   "cell_type": "markdown",
   "metadata": {},
   "source": [
    "### Merging Two Dictionaries\n",
    "\n",
    "There are two common ways of combining dictionaries. I find myself using these when I've got configuration information coming from two places and I need a way to combine dictionaries.\n",
    "\n",
    "If python is version 3.8 or less, we use the `new_dict = {**dict1, **dict2}`, and if this is 3.9 or greater, `new_dict = dict1 | dict2\"`.\n",
    "\n",
    "In the cell below create a new dictionary called particles1, and add a muon to it. Then use the appropirate combiner to combine the dictionaries.\n",
    "\n",
    "First, how to find out what the version of python is:"
   ]
  },
  {
   "cell_type": "code",
   "execution_count": null,
   "metadata": {},
   "outputs": [],
   "source": [
    "import sys\n",
    "\n",
    "print(f'{sys.version_info[0]}, {sys.version_info[1]}')"
   ]
  },
  {
   "cell_type": "markdown",
   "metadata": {},
   "source": [
    "Write your new dictionary and merge them in the next cell"
   ]
  },
  {
   "cell_type": "code",
   "execution_count": null,
   "metadata": {},
   "outputs": [],
   "source": [
    "particles2 = {\n",
    "    'tau': {\n",
    "        'mass': 177686e-25,\n",
    "        'interacts-with': ['photon', 'Z', 'W'],\n",
    "    }\n",
    "}\n",
    "\n",
    "# Put the merge here...\n"
   ]
  },
  {
   "cell_type": "code",
   "execution_count": null,
   "metadata": {},
   "outputs": [],
   "source": [
    "# For below python 3.8\n",
    "{**particles, **particles2}"
   ]
  }
 ],
 "metadata": {
  "kernelspec": {
   "display_name": ".venv",
   "language": "python",
   "name": "python3"
  },
  "language_info": {
   "codemirror_mode": {
    "name": "ipython",
    "version": 3
   },
   "file_extension": ".py",
   "mimetype": "text/x-python",
   "name": "python",
   "nbconvert_exporter": "python",
   "pygments_lexer": "ipython3",
   "version": "3.10.8"
  },
  "orig_nbformat": 4,
  "vscode": {
   "interpreter": {
    "hash": "97ee99713355a295790cf988e930f7ce05360b418008be67aa4c33ddf991f00c"
   }
  }
 },
 "nbformat": 4,
 "nbformat_minor": 2
}
