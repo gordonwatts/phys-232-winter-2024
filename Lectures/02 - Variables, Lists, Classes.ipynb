{
 "cells": [
  {
   "attachments": {},
   "cell_type": "markdown",
   "metadata": {},
   "source": [
    "# Lecture 2\n",
    "\n",
    "We are going to have to pick up what I didn't get to in Lecture 1 first..."
   ]
  },
  {
   "attachments": {},
   "cell_type": "markdown",
   "metadata": {},
   "source": [
    "## Simple Python - data\n",
    "\n",
    "Lets start with a few things so we can use them later on.\n",
    "\n",
    "Simple Data:\n",
    "\n",
    "* A number is just as you would expect - like `10` or `5.3`.\n",
    "* Basic operations use `+`, `-`, `/`, and `*`\n",
    "* Strings are any text that is surrounded by either `\"` or `'` (both are valid - choose one and stick with it).\n",
    "\n",
    "To print anything out just put it in the `print` function call. For example, alter the below line to print out `10.55`."
   ]
  },
  {
   "cell_type": "code",
   "execution_count": null,
   "metadata": {},
   "outputs": [],
   "source": [
    "print()"
   ]
  },
  {
   "attachments": {},
   "cell_type": "markdown",
   "metadata": {},
   "source": [
    "## Metadata\n",
    "\n",
    "As an example of some metadata that is attached to data - consider its type. You can determine the `type` of some bit of data by using the `type` call - like `type(10)`. "
   ]
  },
  {
   "cell_type": "code",
   "execution_count": null,
   "metadata": {},
   "outputs": [],
   "source": [
    "type(10)"
   ]
  },
  {
   "attachments": {},
   "cell_type": "markdown",
   "metadata": {},
   "source": [
    "Show the type of a string is `str` using the `type` function as it was just used:"
   ]
  },
  {
   "cell_type": "code",
   "execution_count": null,
   "metadata": {},
   "outputs": [],
   "source": []
  },
  {
   "cell_type": "markdown",
   "metadata": {},
   "source": [
    "Even more cool is that you can use what comes back from `type` to create new items. For example, `type(10)(22.2)` - predict what that will do:"
   ]
  },
  {
   "cell_type": "code",
   "execution_count": null,
   "metadata": {},
   "outputs": [],
   "source": []
  },
  {
   "attachments": {},
   "cell_type": "markdown",
   "metadata": {},
   "source": [
    "# Variables\n",
    "\n",
    "Variables are \"tags\" that point to or reference some data in memory.\n",
    "\n",
    "The next cell assigns `a` to point to the object in memory that references the number `10`."
   ]
  },
  {
   "cell_type": "code",
   "execution_count": null,
   "metadata": {},
   "outputs": [],
   "source": [
    "a = 10"
   ]
  },
  {
   "attachments": {},
   "cell_type": "markdown",
   "metadata": {},
   "source": [
    "And now we can print out `a`:"
   ]
  },
  {
   "cell_type": "code",
   "execution_count": null,
   "metadata": {},
   "outputs": [],
   "source": [
    "print(a)"
   ]
  },
  {
   "attachments": {},
   "cell_type": "markdown",
   "metadata": {},
   "source": [
    "In the next cell, set b to point to the string `I am a Husky!`, and print it out (it is totally fine to have more than one line in a code cell!):"
   ]
  },
  {
   "cell_type": "code",
   "execution_count": null,
   "metadata": {},
   "outputs": [],
   "source": [
    "b = "
   ]
  },
  {
   "attachments": {},
   "cell_type": "markdown",
   "metadata": {},
   "source": [
    "Python will track variables as long as it can. There are some rules (called scoping rules) the govern this, and we will cover that later.\n",
    "\n",
    "And you can reassign variables at any time to something new! In the next code cell:\n",
    "\n",
    "1. print out the value of `b`\n",
    "1. Assign the number `5.5` to `b`\n",
    "1. print out the value of `b` again.\n",
    "\n",
    "Question: What happened to the object `I am a Husky!`?"
   ]
  },
  {
   "cell_type": "code",
   "execution_count": null,
   "metadata": {},
   "outputs": [],
   "source": []
  },
  {
   "attachments": {},
   "cell_type": "markdown",
   "metadata": {},
   "source": [
    "What happens if we ask python about something it doesn't know about? Try running this next cell, which clearly contains an _error_."
   ]
  },
  {
   "cell_type": "code",
   "execution_count": null,
   "metadata": {},
   "outputs": [],
   "source": [
    "print(bogus_variable_name)"
   ]
  },
  {
   "attachments": {},
   "cell_type": "markdown",
   "metadata": {},
   "source": [
    "That **stack trace** tries to tell you exactly how you go there, and exactly where the error occurred. Tracking down this sort of error is painful - and these stack traces are the first step in trying to figure it out. I would guess you'll be seeing a lot of these this quarter."
   ]
  },
  {
   "attachments": {},
   "cell_type": "markdown",
   "metadata": {},
   "source": [
    "## Modules\n",
    "\n",
    "These are super useful. As soon as you have some really well debugged code, self contained code, you should investigate putting it into a module!\n",
    "\n",
    "A module is just a simple file - and you tell Python you want to use it with the `import` statement:"
   ]
  },
  {
   "cell_type": "code",
   "execution_count": null,
   "metadata": {},
   "outputs": [],
   "source": [
    "import lec_01_helpers"
   ]
  },
  {
   "attachments": {},
   "cell_type": "markdown",
   "metadata": {},
   "source": [
    "Now we can reference a variable that is inside that module:"
   ]
  },
  {
   "cell_type": "code",
   "execution_count": null,
   "metadata": {},
   "outputs": [],
   "source": [
    "print(lec_01_helpers.var1)"
   ]
  },
  {
   "attachments": {},
   "cell_type": "markdown",
   "metadata": {},
   "source": [
    "Take a second to open up the file `lec_01_helpers.py` and you'll see the definition. Modules can contain any python code!\n",
    "\n",
    "Create a module using the Jupyter Interface such that the following code will work.\n",
    "\n",
    "1. Create the file (make sure it is in the `Lectures` folder!!)\n",
    "1. Define the variable inside that file\n",
    "1. Make sure to save the file (`control-S` or `command-S` should do it, or the disk icon on the web interface)\n",
    "\n",
    "The output from the cell should be `Spoon`."
   ]
  },
  {
   "cell_type": "code",
   "execution_count": null,
   "metadata": {},
   "outputs": [],
   "source": [
    "import lec_01_new\n",
    "print(lec_01_new.fork)"
   ]
  },
  {
   "attachments": {},
   "cell_type": "markdown",
   "metadata": {},
   "source": [
    "## Lists\n",
    "\n",
    "Some very simple things to get started with lists...\n",
    "\n",
    "Lists are created with square brackets:"
   ]
  },
  {
   "cell_type": "code",
   "execution_count": null,
   "metadata": {},
   "outputs": [],
   "source": [
    "l1 = [1, 2, 3, 4]\n",
    "\n",
    "print(l1)\n",
    "print(l1[2])"
   ]
  },
  {
   "attachments": {},
   "cell_type": "markdown",
   "metadata": {},
   "source": [
    "Why does this next line give an error?"
   ]
  },
  {
   "cell_type": "code",
   "execution_count": null,
   "metadata": {},
   "outputs": [],
   "source": [
    "print(l1[4])"
   ]
  },
  {
   "attachments": {},
   "cell_type": "markdown",
   "metadata": {},
   "source": [
    "But not this line:"
   ]
  },
  {
   "cell_type": "code",
   "execution_count": null,
   "metadata": {},
   "outputs": [],
   "source": [
    "l1[-1]"
   ]
  },
  {
   "attachments": {},
   "cell_type": "markdown",
   "metadata": {},
   "source": [
    "Python is full of these little shortcuts... The more you know, the more _pythonic_ your code becomes... \n",
    "\n",
    "Create a list of 4 strings such that the line `\"one\" in l2` returns true:"
   ]
  },
  {
   "cell_type": "code",
   "execution_count": null,
   "metadata": {},
   "outputs": [],
   "source": [
    "l2 ="
   ]
  },
  {
   "cell_type": "code",
   "execution_count": null,
   "metadata": {},
   "outputs": [],
   "source": [
    "\"one\" in l2"
   ]
  },
  {
   "attachments": {},
   "cell_type": "markdown",
   "metadata": {},
   "source": [
    "Lists are very powerful, and there are lots of methods attached to them. You can quickly list them using the `dir` function:"
   ]
  },
  {
   "cell_type": "code",
   "execution_count": null,
   "metadata": {},
   "outputs": [],
   "source": [
    "dir(l1)"
   ]
  },
  {
   "attachments": {},
   "cell_type": "markdown",
   "metadata": {},
   "source": [
    "And then you can use python's built in help to get help on the functions:"
   ]
  },
  {
   "cell_type": "code",
   "execution_count": null,
   "metadata": {},
   "outputs": [],
   "source": [
    "help(l1.append)"
   ]
  },
  {
   "attachments": {},
   "cell_type": "markdown",
   "metadata": {},
   "source": [
    "Add `5` to the end of list `l1`."
   ]
  },
  {
   "cell_type": "code",
   "execution_count": null,
   "metadata": {},
   "outputs": [],
   "source": []
  },
  {
   "cell_type": "markdown",
   "metadata": {},
   "source": [
    "_Slicing_ is also amazingly powerful. Lets get some data."
   ]
  },
  {
   "cell_type": "code",
   "execution_count": null,
   "metadata": {},
   "outputs": [],
   "source": [
    "counter = list(range(1000))\n",
    "straight_line = [c*3.0 + 1.0 for c in counter]\n",
    "\n",
    "import random\n",
    "random_line = [c*3.0 + 1.0*random.uniform(-100.5, 100.5) for c in counter]"
   ]
  },
  {
   "cell_type": "markdown",
   "metadata": {},
   "source": [
    "Next, lets make a quick plot of it."
   ]
  },
  {
   "cell_type": "code",
   "execution_count": null,
   "metadata": {},
   "outputs": [],
   "source": [
    "from matplotlib import legend\n",
    "import matplotlib.pyplot as plt\n",
    "\n",
    "plt.plot(counter, random_line, label='random')\n",
    "plt.plot(counter, straight_line, label='straight')\n",
    "plt.xlabel('x')\n",
    "plt.ylabel('y')\n",
    "plt.legend()\n",
    "plt.show()"
   ]
  },
  {
   "cell_type": "markdown",
   "metadata": {},
   "source": [
    "Slicing lets us look at parts of this line. For example, the first 10 elements of the list:"
   ]
  },
  {
   "cell_type": "code",
   "execution_count": null,
   "metadata": {},
   "outputs": [],
   "source": [
    "random_line[0:10]"
   ]
  },
  {
   "cell_type": "markdown",
   "metadata": {},
   "source": [
    "Or the first 10 elements starting with the 3rd element:"
   ]
  },
  {
   "cell_type": "code",
   "execution_count": null,
   "metadata": {},
   "outputs": [],
   "source": [
    "random_line[2:12]"
   ]
  },
  {
   "cell_type": "markdown",
   "metadata": {},
   "source": [
    "Try out the 50'th item and the next 20:"
   ]
  },
  {
   "cell_type": "code",
   "execution_count": null,
   "metadata": {},
   "outputs": [],
   "source": []
  },
  {
   "cell_type": "markdown",
   "metadata": {},
   "source": [
    "Lets say we want to smooth the data. Lets use the typical smoothing algorithm that is called \"simple moving average (SMA)\". First - how can we average that above list of 10 numbers? for `2:12` you should get `8.12`.\n",
    "\n",
    "_Hint:_ Try using `sum([1, 2, 3, 4])`:"
   ]
  },
  {
   "cell_type": "code",
   "execution_count": null,
   "metadata": {},
   "outputs": [],
   "source": [
    "sum(random_line[2:12])/10.0"
   ]
  },
  {
   "cell_type": "markdown",
   "metadata": {},
   "source": [
    "Great. Now lets use a loop to calculate a running window average. Here is the loop that we will fill in:"
   ]
  },
  {
   "cell_type": "code",
   "execution_count": null,
   "metadata": {},
   "outputs": [],
   "source": [
    "smoothed_line = []\n",
    "for i in range(0, len(random_line)-10):\n",
    "    # Insert your code here"
   ]
  },
  {
   "cell_type": "markdown",
   "metadata": {},
   "source": [
    "And these two should be on top of each other:"
   ]
  },
  {
   "cell_type": "code",
   "execution_count": null,
   "metadata": {},
   "outputs": [],
   "source": [
    "from matplotlib import legend\n",
    "import matplotlib.pyplot as plt\n",
    "\n",
    "plt.plot(counter, random_line, label='random')\n",
    "plt.plot(counter, straight_line, label='straight')\n",
    "plt.plot(counter[:-10], smoothed_line, label='smoothed')\n",
    "plt.xlabel('x')\n",
    "plt.ylabel('y')\n",
    "plt.legend()\n",
    "plt.show()"
   ]
  },
  {
   "cell_type": "markdown",
   "metadata": {},
   "source": [
    "And lets blow it up a bit so we can see better:"
   ]
  },
  {
   "cell_type": "code",
   "execution_count": null,
   "metadata": {},
   "outputs": [],
   "source": [
    "from matplotlib import legend\n",
    "import matplotlib.pyplot as plt\n",
    "\n",
    "plt.plot(counter[0:30], random_line[0:30], label='random')\n",
    "plt.plot(counter[0:30], straight_line[0:30], label='straight')\n",
    "plt.plot(counter[0:30], smoothed_line[0:30], label='smoothed')\n",
    "plt.xlabel('x')\n",
    "plt.ylabel('y')\n",
    "plt.legend()\n",
    "plt.show()"
   ]
  },
  {
   "attachments": {},
   "cell_type": "markdown",
   "metadata": {},
   "source": [
    "## Classes\n",
    "\n",
    "Classes, on the surface, are simple. Here is an animal with the number of feet, and if it is a mammal or not:"
   ]
  },
  {
   "cell_type": "code",
   "execution_count": null,
   "metadata": {},
   "outputs": [],
   "source": [
    "class Animal:\n",
    "    def __init__ (self, name, n_feet, is_mammal):\n",
    "        self.n_feet = n_feet\n",
    "        self.is_mammal = is_mammal\n",
    "        self.name = name\n",
    "\n",
    "    def print_name(self):\n",
    "        '''Print the name out'''\n",
    "        print(self.name)"
   ]
  },
  {
   "attachments": {},
   "cell_type": "markdown",
   "metadata": {},
   "source": [
    "We can see what is defined:"
   ]
  },
  {
   "cell_type": "code",
   "execution_count": null,
   "metadata": {},
   "outputs": [],
   "source": [
    "print(dir(Animal))\n",
    "help(Animal.print_name)"
   ]
  },
  {
   "cell_type": "markdown",
   "metadata": {},
   "source": [
    "Now, lets create an _instance_ of the class."
   ]
  },
  {
   "cell_type": "code",
   "execution_count": null,
   "metadata": {},
   "outputs": [],
   "source": [
    "cat = Animal(\"cat\", 4, True)\n",
    "human = Animal(\"human\", 2, True)"
   ]
  },
  {
   "attachments": {},
   "cell_type": "markdown",
   "metadata": {},
   "source": [
    "And we can get at the instance variables and also at the methods:"
   ]
  },
  {
   "cell_type": "code",
   "execution_count": null,
   "metadata": {},
   "outputs": [],
   "source": [
    "cat.print_name()"
   ]
  },
  {
   "cell_type": "code",
   "execution_count": null,
   "metadata": {},
   "outputs": [],
   "source": [
    "print(human.n_feet)"
   ]
  },
  {
   "attachments": {},
   "cell_type": "markdown",
   "metadata": {},
   "source": [
    "And make a list of all known animals:"
   ]
  },
  {
   "cell_type": "code",
   "execution_count": null,
   "metadata": {},
   "outputs": [],
   "source": [
    "known_animals = [cat, human]"
   ]
  },
  {
   "cell_type": "code",
   "execution_count": null,
   "metadata": {},
   "outputs": [],
   "source": [
    "known_animals[1].print_name()"
   ]
  },
  {
   "attachments": {},
   "cell_type": "markdown",
   "metadata": {},
   "source": [
    "Now, lets do the particles! In the next cell, define the classes to represent the particles as we discussed"
   ]
  },
  {
   "cell_type": "code",
   "execution_count": null,
   "metadata": {},
   "outputs": [],
   "source": []
  },
  {
   "attachments": {},
   "cell_type": "markdown",
   "metadata": {},
   "source": [
    "Now lets create a list containing two electrons!"
   ]
  },
  {
   "cell_type": "code",
   "execution_count": null,
   "metadata": {},
   "outputs": [],
   "source": []
  },
  {
   "attachments": {},
   "cell_type": "markdown",
   "metadata": {},
   "source": [
    "### Using `PIP` for the particle type information\n",
    "\n",
    "Lets up our game. The library [`particle`](https://pypi.org/project/particle/) provides complete particle data group information for all particles, and makes it very easy to access from python. Lets quickly explore it, and then re-write our classes above to incorporate it!\n",
    "\n",
    "First, we need to get the library from the [pypi.org](https://pypi.org) website and install it, and then import it as we normally would any local library."
   ]
  },
  {
   "cell_type": "code",
   "execution_count": null,
   "metadata": {},
   "outputs": [],
   "source": [
    "!pip install particle"
   ]
  },
  {
   "attachments": {},
   "cell_type": "markdown",
   "metadata": {},
   "source": [
    "We really only want the `Particle` class here - which contains all the information about a particular type of particle:"
   ]
  },
  {
   "cell_type": "code",
   "execution_count": null,
   "metadata": {},
   "outputs": [],
   "source": [
    "from particle import Particle"
   ]
  },
  {
   "cell_type": "code",
   "execution_count": null,
   "metadata": {},
   "outputs": [],
   "source": [
    "electron = Particle.from_evtgen_name(\"e-\")\n",
    "electron"
   ]
  },
  {
   "cell_type": "code",
   "execution_count": null,
   "metadata": {},
   "outputs": [],
   "source": [
    "dir(electron)"
   ]
  },
  {
   "cell_type": "code",
   "execution_count": null,
   "metadata": {},
   "outputs": [],
   "source": [
    "print(f'name={electron.name}, mass={electron.mass}, charge={electron.charge}')"
   ]
  },
  {
   "attachments": {},
   "cell_type": "markdown",
   "metadata": {},
   "source": [
    "Now, redo your example above for the event, using this to tag the particle type."
   ]
  },
  {
   "cell_type": "code",
   "execution_count": null,
   "metadata": {},
   "outputs": [],
   "source": []
  },
  {
   "attachments": {},
   "cell_type": "markdown",
   "metadata": {},
   "source": [
    "And create a list with an electron and a muon:"
   ]
  },
  {
   "cell_type": "code",
   "execution_count": null,
   "metadata": {},
   "outputs": [],
   "source": []
  }
 ],
 "metadata": {
  "kernelspec": {
   "display_name": ".venv",
   "language": "python",
   "name": "python3"
  },
  "language_info": {
   "codemirror_mode": {
    "name": "ipython",
    "version": 3
   },
   "file_extension": ".py",
   "mimetype": "text/x-python",
   "name": "python",
   "nbconvert_exporter": "python",
   "pygments_lexer": "ipython3",
   "version": "3.11.1"
  },
  "orig_nbformat": 4,
  "vscode": {
   "interpreter": {
    "hash": "bd01b7ee67a4d4fc1045e5d17420f4623fa0a6b8a299bc53f70ca8869072ed47"
   }
  }
 },
 "nbformat": 4,
 "nbformat_minor": 2
}
