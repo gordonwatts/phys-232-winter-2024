{
 "cells": [
  {
   "attachments": {},
   "cell_type": "markdown",
   "metadata": {},
   "source": [
    "# Lecture 4\n",
    "\n",
    "Today will be about classes. Lots of code has to be written here!"
   ]
  },
  {
   "attachments": {},
   "cell_type": "markdown",
   "metadata": {},
   "source": [
    "## Classes\n",
    "\n",
    "Classes, on the surface, are simple. Here is an animal with the number of feet, and if it is a mammal or not:"
   ]
  },
  {
   "cell_type": "code",
   "execution_count": null,
   "metadata": {},
   "outputs": [],
   "source": [
    "class Animal:\n",
    "    def __init__ (self, name, n_feet, is_mammal):\n",
    "        self.n_feet = n_feet\n",
    "        self.is_mammal = is_mammal\n",
    "        self.name = name\n",
    "\n",
    "    def print_name(self):\n",
    "        '''Print the name out'''\n",
    "        print(self.name)"
   ]
  },
  {
   "attachments": {},
   "cell_type": "markdown",
   "metadata": {},
   "source": [
    "_See slide in matching presentation_"
   ]
  },
  {
   "attachments": {},
   "cell_type": "markdown",
   "metadata": {},
   "source": [
    "`print_name` is a method, which is a function associated with a class. We will learn more about functions and methods in a future lecture, but we need some simple functions here."
   ]
  },
  {
   "attachments": {},
   "cell_type": "markdown",
   "metadata": {},
   "source": [
    "We can see what is defined:"
   ]
  },
  {
   "cell_type": "code",
   "execution_count": null,
   "metadata": {},
   "outputs": [],
   "source": [
    "print(dir(Animal))\n",
    "help(Animal.print_name)"
   ]
  },
  {
   "cell_type": "markdown",
   "metadata": {},
   "source": [
    "Now, lets create an _instance_ of the class."
   ]
  },
  {
   "cell_type": "code",
   "execution_count": null,
   "metadata": {},
   "outputs": [],
   "source": [
    "cat = Animal(\"cat\", 4, True)\n",
    "human = Animal(\"human\", 2, True)"
   ]
  },
  {
   "attachments": {},
   "cell_type": "markdown",
   "metadata": {},
   "source": [
    "This is a key thing about all classes:\n",
    "\n",
    "* There is the definition of what it means to be a member of a class - like `Animal` or `integer` or `float` or `string`\n",
    "* Then there is the object that is an _instance_ of that class - like \"cat\", `5`, `2.2`, or `\"I'm a Husky!\"`.\n",
    "\n",
    "You have the data, and the meta data. The class definition is all the things _about_ the class. The instance is the actual data."
   ]
  },
  {
   "attachments": {},
   "cell_type": "markdown",
   "metadata": {},
   "source": [
    "And we can get at the instance variables and also at the methods:"
   ]
  },
  {
   "cell_type": "code",
   "execution_count": null,
   "metadata": {},
   "outputs": [],
   "source": [
    "cat.print_name()"
   ]
  },
  {
   "cell_type": "code",
   "execution_count": null,
   "metadata": {},
   "outputs": [],
   "source": [
    "print(human.n_feet)"
   ]
  },
  {
   "attachments": {},
   "cell_type": "markdown",
   "metadata": {},
   "source": [
    "And make a list of all known animals:"
   ]
  },
  {
   "cell_type": "code",
   "execution_count": null,
   "metadata": {},
   "outputs": [],
   "source": [
    "known_animals = [cat, human]"
   ]
  },
  {
   "cell_type": "code",
   "execution_count": null,
   "metadata": {},
   "outputs": [],
   "source": [
    "known_animals[1].print_name()"
   ]
  },
  {
   "attachments": {},
   "cell_type": "markdown",
   "metadata": {},
   "source": [
    "Now, lets do the particles! In the next cell, define the classes to represent the particles as we discussed.\n",
    "\n",
    "1. A class that contains attributes for a particle type (call it `Particle`).\n",
    "    * Mass\n",
    "    * Spin\n",
    "    * Charge\n",
    "1. A class that contains attributes for the momentum and particle. Call it `AParticle`.\n",
    "    * Instance of the Particle class\n",
    "    * $p_x$, $p_y$, and $p_z$"
   ]
  },
  {
   "cell_type": "code",
   "execution_count": null,
   "metadata": {},
   "outputs": [],
   "source": []
  },
  {
   "attachments": {},
   "cell_type": "markdown",
   "metadata": {},
   "source": [
    "Create an electron:"
   ]
  },
  {
   "cell_type": "code",
   "execution_count": null,
   "metadata": {},
   "outputs": [],
   "source": []
  },
  {
   "attachments": {},
   "cell_type": "markdown",
   "metadata": {},
   "source": [
    "Now lets create a list containing two electrons which are moving in equal and opposite directions!"
   ]
  },
  {
   "cell_type": "code",
   "execution_count": null,
   "metadata": {},
   "outputs": [],
   "source": []
  },
  {
   "attachments": {},
   "cell_type": "markdown",
   "metadata": {},
   "source": [
    "### Using `PIP` for the particle type information\n",
    "\n",
    "Lets up our game. The library [`particle`](https://pypi.org/project/particle/) provides complete particle data group information for all particles, and makes it very easy to access from python. Lets quickly explore it, and then re-write our classes above to incorporate it!\n",
    "\n",
    "First, we need to get the library from the [pypi.org](https://pypi.org) website and install it, and then import it as we normally would any local library."
   ]
  },
  {
   "cell_type": "code",
   "execution_count": null,
   "metadata": {},
   "outputs": [],
   "source": [
    "!pip install particle"
   ]
  },
  {
   "attachments": {},
   "cell_type": "markdown",
   "metadata": {},
   "source": [
    "We really only want the `Particle` class here - which contains all the information about a particular type of particle:"
   ]
  },
  {
   "cell_type": "code",
   "execution_count": null,
   "metadata": {},
   "outputs": [],
   "source": [
    "from particle import Particle"
   ]
  },
  {
   "cell_type": "code",
   "execution_count": null,
   "metadata": {},
   "outputs": [],
   "source": [
    "electron = Particle.from_evtgen_name(\"e-\")\n",
    "electron"
   ]
  },
  {
   "cell_type": "code",
   "execution_count": null,
   "metadata": {},
   "outputs": [],
   "source": [
    "dir(electron)"
   ]
  },
  {
   "cell_type": "code",
   "execution_count": null,
   "metadata": {},
   "outputs": [],
   "source": [
    "print(f'name={electron.name}, mass={electron.mass}, charge={electron.charge}')"
   ]
  },
  {
   "attachments": {},
   "cell_type": "markdown",
   "metadata": {},
   "source": [
    "Now, redo your example above for the event, using this to tag the particle type."
   ]
  },
  {
   "cell_type": "code",
   "execution_count": null,
   "metadata": {},
   "outputs": [],
   "source": []
  },
  {
   "attachments": {},
   "cell_type": "markdown",
   "metadata": {},
   "source": [
    "And create a list with first a muon and second an electron:"
   ]
  },
  {
   "cell_type": "code",
   "execution_count": null,
   "metadata": {},
   "outputs": [],
   "source": []
  },
  {
   "attachments": {},
   "cell_type": "markdown",
   "metadata": {},
   "source": [
    "And the following should print out `105.65` if we did everything right!:"
   ]
  },
  {
   "cell_type": "code",
   "execution_count": null,
   "metadata": {},
   "outputs": [],
   "source": [
    "print(particles[0].particle.mass)"
   ]
  },
  {
   "attachments": {},
   "cell_type": "markdown",
   "metadata": {},
   "source": [
    "# Flow Control - If Statements\n",
    "\n",
    "These are simple branch statements and probably some of the most powerful single statements in a programming language. Many languages contain multiple types of `if` statements, even!"
   ]
  },
  {
   "cell_type": "code",
   "execution_count": null,
   "metadata": {},
   "outputs": [],
   "source": [
    "i = 10\n",
    "if i == 10:\n",
    "    print(\"it is 10\")\n",
    "else:\n",
    "    print(\"it is not 10\")"
   ]
  },
  {
   "attachments": {},
   "cell_type": "markdown",
   "metadata": {},
   "source": [
    "The above should print 10. Now cut paste the code into the cell below and modify `i` so that it prints out `it is not 10`."
   ]
  },
  {
   "cell_type": "markdown",
   "metadata": {},
   "source": []
  },
  {
   "attachments": {},
   "cell_type": "markdown",
   "metadata": {},
   "source": [
    "Write the code below so that it prints out \"The LED is on\" or \"The LED is off\" depending on the value of \"led_is_on\":"
   ]
  },
  {
   "cell_type": "code",
   "execution_count": null,
   "metadata": {},
   "outputs": [],
   "source": [
    "led_is_on = False\n"
   ]
  },
  {
   "attachments": {},
   "cell_type": "markdown",
   "metadata": {},
   "source": [
    "You can also drop the `else` clause if you like:"
   ]
  },
  {
   "cell_type": "code",
   "execution_count": null,
   "metadata": {},
   "outputs": [],
   "source": [
    "i = 10\n",
    "if i >= 10:\n",
    "    print(\"i is too large!\")"
   ]
  },
  {
   "attachments": {},
   "cell_type": "markdown",
   "metadata": {},
   "source": [
    "Python has a second form of a if statement - one that is an expression! We can rewrite the above:"
   ]
  },
  {
   "cell_type": "code",
   "execution_count": null,
   "metadata": {},
   "outputs": [],
   "source": [
    "size_string = \"it is 10\" if i == 10 else \"is is not 10\"\n",
    "print(size_string)"
   ]
  },
  {
   "attachments": {},
   "cell_type": "markdown",
   "metadata": {},
   "source": [
    "# Flow Control - Loops\n",
    "\n",
    "The most important types of statement-loops are the `for` and `while` loops. You've been seeing `while` loops for a while:\n",
    "\n",
    "```python\n",
    "while condition_expression:\n",
    "    statement1\n",
    "    statement2\n",
    "```\n",
    "\n",
    "In our microcontroller code you often see:\n",
    "\n",
    "```python\n",
    "while True:\n",
    "    statement1\n",
    "    statement2\n",
    "```\n",
    "\n",
    "This is because we want to start the microcontroller and have it run till we reset it or the battery dies!\n",
    "\n",
    "But any condition will work there."
   ]
  },
  {
   "attachments": {},
   "cell_type": "markdown",
   "metadata": {},
   "source": [
    "Write, in the cell below, a while loop that prints out the following:\n",
    "\n",
    "```text\n",
    "0\n",
    "2\n",
    "4\n",
    "6\n",
    "8\n",
    "10\n",
    "```\n",
    "\n",
    "The while loop should have only one `print` function call!"
   ]
  },
  {
   "cell_type": "code",
   "execution_count": null,
   "metadata": {},
   "outputs": [],
   "source": []
  },
  {
   "attachments": {},
   "cell_type": "markdown",
   "metadata": {},
   "source": [
    "In a microcontroller you may have a `while` loop that looks at some external condition, and as long as it exists, it will keep trying to do something to correct it."
   ]
  },
  {
   "attachments": {},
   "cell_type": "markdown",
   "metadata": {},
   "source": [
    "The `for` loop is normally even more common. The `for` loop loops over a `list` of items or a `tuple`. That is it. That is all it does!\n",
    "\n",
    "From your reading, create a `for` loop that prints out \"I found a <x>\" for each item in the list:"
   ]
  },
  {
   "cell_type": "code",
   "execution_count": null,
   "metadata": {},
   "outputs": [],
   "source": [
    "things = [\"bike\", \"car\", \"plane\", \"train\"]\n"
   ]
  },
  {
   "attachments": {},
   "cell_type": "markdown",
   "metadata": {},
   "source": [
    "You will often find ourself looping over `list`s in python.\n",
    "\n",
    "Lots of things can generate a `list` or `tuple`. One of the more useful is `range`:"
   ]
  },
  {
   "cell_type": "code",
   "execution_count": null,
   "metadata": {},
   "outputs": [],
   "source": [
    "range?"
   ]
  },
  {
   "attachments": {},
   "cell_type": "markdown",
   "metadata": {},
   "source": [
    "In the next cell, write a `for` loop that prints out the same as the while loop (even numbers up to 10), and does not contain a `*2` expression in it!"
   ]
  },
  {
   "cell_type": "code",
   "execution_count": null,
   "metadata": {},
   "outputs": [],
   "source": []
  },
  {
   "attachments": {},
   "cell_type": "markdown",
   "metadata": {},
   "source": [
    "Recall we said _statement-based loops_ above? There are expression loops as well! These are called `generators` or `list comprehensions` and are very very powerful because you can do so much so concisely. I'll show you an example - you should read up on these and start using them as soon as you feel comfortable."
   ]
  },
  {
   "cell_type": "code",
   "execution_count": null,
   "metadata": {},
   "outputs": [],
   "source": [
    "every_number = [0, 1, 2, 3, 4, 5]\n",
    "even_numbers = [i*2 for i in every_number]\n",
    "print(even_numbers)"
   ]
  },
  {
   "attachments": {},
   "cell_type": "markdown",
   "metadata": {},
   "source": [
    "Have you heard of the `map-reduce` algorithm? It is a way of splitting up and processing a large amount of data and then aggregating it. It came from Google, and they are famous for it because it was one of the first patterns recognized for processing big data. This `list comprehension` is the `map` operation in `map-reduce`."
   ]
  }
 ],
 "metadata": {
  "kernelspec": {
   "display_name": ".venv",
   "language": "python",
   "name": "python3"
  },
  "language_info": {
   "codemirror_mode": {
    "name": "ipython",
    "version": 3
   },
   "file_extension": ".py",
   "mimetype": "text/x-python",
   "name": "python",
   "nbconvert_exporter": "python",
   "pygments_lexer": "ipython3",
   "version": "3.10.8"
  },
  "orig_nbformat": 4,
  "vscode": {
   "interpreter": {
    "hash": "bd01b7ee67a4d4fc1045e5d17420f4623fa0a6b8a299bc53f70ca8869072ed47"
   }
  }
 },
 "nbformat": 4,
 "nbformat_minor": 2
}
